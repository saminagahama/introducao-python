{
 "cells": [
  {
   "cell_type": "code",
   "execution_count": null,
   "id": "56819d3b",
   "metadata": {},
   "outputs": [],
   "source": [
    "user_input = 0\n",
    "alimento = 0\n",
    "passeio = 1\n",
    "\n",
    "class Animal:\n",
    "    nome = ''\n",
    "    especie = ''\n",
    "    fome = 0\n",
    "    \n",
    "    def __init__(self, nome='', especie=''):\n",
    "        self.nome = nome\n",
    "        self.especie = especie\n",
    "    \n",
    "    def __str__(self):\n",
    "        return 'Nome: {}; Espécie: {}; Fome: {}'.format(self.nome, self.especie, self.fome)\n",
    "    \n",
    "    def andar(self,passeio):\n",
    "        self.fome += passeio\n",
    "        \n",
    "    def comer(self, alimento):\n",
    "        if self.fome < alimento:\n",
    "            self.fome = 0\n",
    "        else:\n",
    "            self.fome -= alimento"
   ]
  },
  {
   "cell_type": "code",
   "execution_count": null,
   "id": "657301eb",
   "metadata": {},
   "outputs": [],
   "source": [
    "animal1 = [Animal('Tamagotchi', 'Ovo')]\n",
    "print(animal1[0])"
   ]
  },
  {
   "cell_type": "code",
   "execution_count": null,
   "id": "319db826",
   "metadata": {},
   "outputs": [],
   "source": [
    "user_input = int(input('Opções:\\nDigite 1 para alimentar o animal\\nDigite 2 para andar com o animal\\nDigite 3 para mostrar o estado do animal\\nDigite 4 para finalizar a execução\\n'))\n",
    "if int(user_input == 1):\n",
    "    alimento = int(input('Digite quanto de alimento quer dar para o animal: '))"
   ]
  },
  {
   "cell_type": "code",
   "execution_count": null,
   "id": "25121d84",
   "metadata": {},
   "outputs": [],
   "source": [
    "for estado in animal1:\n",
    "    if user_input == 1:\n",
    "        estado.comer(alimento)\n",
    "        print('Você alimentou o animal com ' + str(alimento) + ' de comida e agora a fome dele está em ' + str(estado.fome))\n",
    "    elif user_input == 2:\n",
    "        estado.andar(passeio)\n",
    "        print('Você andou com o animal e agora a fome dele está em ' + str(estado.fome))\n",
    "    elif user_input == 3:\n",
    "        print('Estado atual do animal:\\n' + str(estado))\n",
    "    elif user_input == 4:\n",
    "        break\n",
    "    else:\n",
    "        continue"
   ]
  }
 ],
 "metadata": {
  "kernelspec": {
   "display_name": "Python 3",
   "language": "python",
   "name": "python3"
  },
  "language_info": {
   "codemirror_mode": {
    "name": "ipython",
    "version": 3
   },
   "file_extension": ".py",
   "mimetype": "text/x-python",
   "name": "python",
   "nbconvert_exporter": "python",
   "pygments_lexer": "ipython3",
   "version": "3.8.8"
  }
 },
 "nbformat": 4,
 "nbformat_minor": 5
}
