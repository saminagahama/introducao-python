{
 "cells": [
  {
   "cell_type": "code",
   "execution_count": 32,
   "id": "dd941605",
   "metadata": {},
   "outputs": [],
   "source": [
    "cursos = [\n",
    "  'Engenharia de Software',\n",
    "  'Python para Data Science',\n",
    "  'Introdução a Java'\n",
    "]\n",
    "\n",
    "respostas = [1, 2, 0, 1, 1, 1, 1, 0, 0, 2, 2, 0, 1, 1,\n",
    "  1, 1, 2, 0, 1, 1, 0, 1, 0, 2, 1, 1, 0, 2,\n",
    "  2, 1, 0, 1, 1, 0, 0, 0, 1, 1, 2, 1\n",
    "]"
   ]
  },
  {
   "cell_type": "code",
   "execution_count": 44,
   "id": "0a52d9dc",
   "metadata": {},
   "outputs": [
    {
     "name": "stdout",
     "output_type": "stream",
     "text": [
      "Número total de votos = 40\n"
     ]
    }
   ],
   "source": [
    "numero_total = len(respostas)\n",
    "total_de_votos = str(numero_total)\n",
    "print(\"Número total de votos = \" + total_de_votos)"
   ]
  },
  {
   "cell_type": "code",
   "execution_count": 45,
   "id": "10b19acf",
   "metadata": {},
   "outputs": [],
   "source": [
    "engenharia = respostas.count(0)\n",
    "python = respostas.count(1)\n",
    "intro = respostas.count(2)"
   ]
  },
  {
   "cell_type": "code",
   "execution_count": 46,
   "id": "d50aa944",
   "metadata": {},
   "outputs": [
    {
     "name": "stdout",
     "output_type": "stream",
     "text": [
      "Engenharia de Software: 30.0%\n",
      "Python para Data Science: 50.0%\n",
      "Introdução a Java: 20.0%\n"
     ]
    }
   ],
   "source": [
    "por_eng = str((engenharia / numero_total) * 100)\n",
    "print(\"Engenharia de Software: \" + por_eng + \"%\")\n",
    "\n",
    "por_pyt = str((python / numero_total) * 100)\n",
    "print(\"Python para Data Science: \" + por_pyt + \"%\")\n",
    "\n",
    "por_int = str((intro / numero_total) * 100)\n",
    "print(\"Introdução a Java: \" + por_int + \"%\")\n",
    "\n"
   ]
  },
  {
   "cell_type": "code",
   "execution_count": 47,
   "id": "d3cbcda9",
   "metadata": {},
   "outputs": [
    {
     "name": "stdout",
     "output_type": "stream",
     "text": [
      "Curso escolhido: Python para Data Science\n"
     ]
    }
   ],
   "source": [
    "porcentagens = [por_eng, por_pyt, por_int]\n",
    "opcoes_de_cursos = [\"Engenharia de Software\", \"Python para Data Science\", \"Introdução a Java\"]\n",
    "curso_escolhido = str(max(porcentagens))\n",
    "\n",
    "if (curso_escolhido == por_eng):\n",
    "    print(\"Curso escolhido: Engenharia de Software\")\n",
    "elif (curso_escolhido == por_pyt):\n",
    "    print(\"Curso escolhido: Python para Data Science\")\n",
    "else:\n",
    "    print(\"Curso escolhido: Introdução a Java\")"
   ]
  }
 ],
 "metadata": {
  "kernelspec": {
   "display_name": "Python 3",
   "language": "python",
   "name": "python3"
  },
  "language_info": {
   "codemirror_mode": {
    "name": "ipython",
    "version": 3
   },
   "file_extension": ".py",
   "mimetype": "text/x-python",
   "name": "python",
   "nbconvert_exporter": "python",
   "pygments_lexer": "ipython3",
   "version": "3.8.8"
  }
 },
 "nbformat": 4,
 "nbformat_minor": 5
}
