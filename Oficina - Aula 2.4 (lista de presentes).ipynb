{
 "cells": [
  {
   "cell_type": "code",
   "execution_count": null,
   "id": "e3aab9ba",
   "metadata": {},
   "outputs": [],
   "source": [
    "presentes = {\n",
    "    'cadeira', 'cafeteira', 'caneca', 'escumadeira',\n",
    "    'espanador', 'espátula', 'estante', 'faqueiro',\n",
    "    'frigideira', 'funil', 'halter', 'liquidificador',\n",
    "    'notebook', 'panela', 'peneira', 'playstation',\n",
    "    'rádio', 'smartphone', 'sofá', 'tablet', 'teclado',\n",
    "    'televisão', 'vassoura', 'webcam', 'xbox',\n",
    "}\n",
    "\n",
    "loja1 = {\n",
    "    'cadeira', 'cafeteira', 'caneca', 'escumadeira', 'estante',\n",
    "    'frigideira', 'funil', 'liquidificador', 'notebook', 'panela',\n",
    "    'playstation', 'smartphone', 'teclado', 'televisão'}\n",
    "loja2 = {\n",
    "    'cafeteira', 'escumadeira', 'espanador', 'frigideira', 'funil',\n",
    "    'halter', 'peneira', 'playstation', 'sofá', 'tablet', 'televisão',\n",
    "    'vassoura', 'webcam', 'xbox'}\n",
    "loja3 = {\n",
    "    'caneca', 'escumadeira', 'espanador', 'espátula', 'estante',\n",
    "    'frigideira', 'halter', 'playstation', 'rádio', 'smartphone',\n",
    "    'sofá', 'teclado', 'televisão', 'vassoura', 'xbox'}\n",
    "loja4 = {\n",
    "    'caneca', 'escumadeira', 'espanador', 'espátula', 'estante',\n",
    "    'frigideira', 'halter', 'playstation', 'rádio', 'smartphone',\n",
    "    'sofá', 'teclado', 'televisão', 'vassoura', 'xbox'}\n",
    "\n",
    "# união dos conjuntos das lojas\n",
    "lojas = loja1.union(loja2, loja3, loja4)\n",
    "\n",
    "# número de presentes\n",
    "total = len(presentes)"
   ]
  },
  {
   "cell_type": "code",
   "execution_count": null,
   "id": "8a587dd9",
   "metadata": {},
   "outputs": [],
   "source": [
    "# 1. Quais produtos são oferecidos em ao menos uma loja?\n",
    "\n",
    "for produto in presentes:\n",
    "    if produto in lojas:\n",
    "        print(produto)"
   ]
  },
  {
   "cell_type": "code",
   "execution_count": null,
   "id": "c2ea0350",
   "metadata": {},
   "outputs": [],
   "source": [
    "# 2. Quais produtos são oferecidos em todas as lojas? \n",
    "\n",
    "for produto in presentes:\n",
    "    if produto in loja1 and produto in loja2 and produto in loja3 and produto in loja4:\n",
    "        print(produto)"
   ]
  },
  {
   "cell_type": "code",
   "execution_count": null,
   "id": "f558f068",
   "metadata": {},
   "outputs": [],
   "source": [
    "# 3. Quais produtos não são encontrados em nenhuma loja?\n",
    "\n",
    "for produto in presentes:\n",
    "    if produto not in lojas:\n",
    "        print(produto)"
   ]
  },
  {
   "cell_type": "code",
   "execution_count": null,
   "id": "a48cc43d",
   "metadata": {},
   "outputs": [],
   "source": [
    "# 4. Quais produtos são exclusivos de cada loja? \n",
    "\n",
    "for produto in presentes:\n",
    "    if produto in loja1:\n",
    "        if produto not in loja2:\n",
    "            if produto not in loja3:\n",
    "                if produto not in loja4:\n",
    "                    produto_exclusivo_loja1 = str(produto)\n",
    "                    print('Produto exclusivo da Loja 1:', produto_exclusivo_loja1)\n",
    "                    \n",
    "for produto in presentes:\n",
    "    if produto in loja2:\n",
    "        if produto not in loja3:\n",
    "            if produto not in loja4:\n",
    "                if produto not in loja1:\n",
    "                    produto_exclusivo_loja2 = str(produto)\n",
    "                    print('Produto exclusivo da Loja 2:', produto_exclusivo_loja2)\n",
    "                    \n",
    "for produto in presentes:\n",
    "    if produto in loja3:\n",
    "        if produto not in loja4:\n",
    "            if produto not in loja2:\n",
    "                if produto not in loja1:\n",
    "                    produto_exclusivo_loja3 = str(produto)\n",
    "                    print('Produto exclusivo da Loja 3:', produto_exclusivo_loja3)   \n",
    "                    \n",
    "for produto in presentes:\n",
    "    if produto in loja4:\n",
    "        if produto not in loja3:\n",
    "            if produto not in loja2:\n",
    "                if produto not in loja1:\n",
    "                    produto_exclusivo_loja4 = str(produto)\n",
    "                    print('Produto exclusivo da Loja 4:', produto_exclusivo_loja4)                      "
   ]
  },
  {
   "cell_type": "code",
   "execution_count": null,
   "id": "a19aa336",
   "metadata": {},
   "outputs": [],
   "source": [
    "# 5. Se for possível escolher duas lojas pra cobrir um número maior de presentes, \n",
    "# qual é o maior número de presentes que é possível cobrir dessa forma?\n",
    "\n",
    "#quantidade de produtos que as lojas não possuem\n",
    "loja1_loja2 = len(lojas.difference(loja1,loja2))\n",
    "loja1_loja3 = len(lojas.difference(loja1,loja3))\n",
    "loja1_loja4 = len(lojas.difference(loja1,loja4))\n",
    "loja2_loja3 = len(lojas.difference(loja2,loja3))\n",
    "loja2_loja4 = len(lojas.difference(loja2,loja4))\n",
    "loja3_loja4 = len(lojas.difference(loja3,loja4))\n",
    "\n",
    "\n",
    "duplas = (loja1_loja2, loja1_loja3, loja1_loja4, loja2_loja3, loja2_loja4,loja3_loja4)\n",
    "melhor_dupla = min(duplas)\n",
    "numero_de_presentes = total - melhor_dupla - 1 # o -1 é referente ao produto não encontrando em nenhuma das lojas\n",
    "print(numero_de_presentes)"
   ]
  }
 ],
 "metadata": {
  "kernelspec": {
   "display_name": "Python 3",
   "language": "python",
   "name": "python3"
  },
  "language_info": {
   "codemirror_mode": {
    "name": "ipython",
    "version": 3
   },
   "file_extension": ".py",
   "mimetype": "text/x-python",
   "name": "python",
   "nbconvert_exporter": "python",
   "pygments_lexer": "ipython3",
   "version": "3.8.8"
  }
 },
 "nbformat": 4,
 "nbformat_minor": 5
}
