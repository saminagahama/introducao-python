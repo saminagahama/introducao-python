{
 "cells": [
  {
   "cell_type": "code",
   "execution_count": null,
   "id": "b711ea2b",
   "metadata": {},
   "outputs": [],
   "source": [
    "peso_str = input('Digite seu peso: ')\n",
    "altura_str = input('Digite sua altura: ')"
   ]
  },
  {
   "cell_type": "code",
   "execution_count": null,
   "id": "8c3c0dd4",
   "metadata": {},
   "outputs": [],
   "source": [
    "peso_float = float(peso_str)\n",
    "print(peso_float)\n",
    "altura_float = float(altura_str)\n",
    "print(altura_float)"
   ]
  },
  {
   "cell_type": "code",
   "execution_count": null,
   "id": "037a8194",
   "metadata": {},
   "outputs": [],
   "source": [
    "altura_ao_quadrado = altura_float * altura_float\n",
    "print(altura_ao_quadrado)"
   ]
  },
  {
   "cell_type": "code",
   "execution_count": null,
   "id": "f6685aa1",
   "metadata": {},
   "outputs": [],
   "source": [
    "imc = peso_float / altura_ao_quadrado\n",
    "print(imc)"
   ]
  }
 ],
 "metadata": {
  "kernelspec": {
   "display_name": "Python 3",
   "language": "python",
   "name": "python3"
  },
  "language_info": {
   "codemirror_mode": {
    "name": "ipython",
    "version": 3
   },
   "file_extension": ".py",
   "mimetype": "text/x-python",
   "name": "python",
   "nbconvert_exporter": "python",
   "pygments_lexer": "ipython3",
   "version": "3.8.8"
  }
 },
 "nbformat": 4,
 "nbformat_minor": 5
}
